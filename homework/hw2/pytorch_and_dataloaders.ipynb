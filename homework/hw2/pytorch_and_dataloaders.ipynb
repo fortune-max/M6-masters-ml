{
  "cells": [
    {
      "cell_type": "markdown",
      "metadata": {
        "id": "jvMAfmQlCe8W"
      },
      "source": [
        "# week 09 PyTorch practice, hints and Dataloaders"
      ]
    },
    {
      "cell_type": "markdown",
      "metadata": {
        "id": "GLAoeEguCe8a"
      },
      "source": [
        "Credits:\n",
        "* First part is based on YSDA [Practical RL course week04 materials](https://github.com/yandexdataschool/Practical_RL/tree/master/week04_%5Brecap%5D_deep_learning).\n",
        "* Second part is based on PyTorch official tutorials and [this kaggle kernel](https://www.kaggle.com/pinocookie/pytorch-dataset-and-dataloader)\n",
        "* Third part is based on PyTorch tutorial by [Stanford CS 231n course](http://cs231n.stanford.edu)"
      ]
    },
    {
      "cell_type": "markdown",
      "metadata": {
        "id": "NfPG5cCECe8b"
      },
      "source": [
        "![img](https://pytorch.org/tutorials/_static/pytorch-logo-dark.svg)\n",
        "\n",
        "__This notebook__ will teach you to use pytorch low-level core. You can install it [here](http://pytorch.org/).\n",
        "\n",
        "__Pytorch feels__ differently than other frameworks (like tensorflow/theano) on almost every level. TensorFlow makes your code live in two \"worlds\" simultaneously:  symbolic graphs and actual tensors. First you declare a symbolic \"recipe\" of how to get from inputs to outputs, then feed it with actual minibatches of data.  In pytorch, __there's only one world__: all tensors have a numeric value.\n",
        "\n",
        "You compute outputs on the fly without pre-declaring anything. The code looks exactly as in pure numpy with one exception: pytorch computes gradients for you. And can run stuff on GPU. And has a number of pre-implemented building blocks for your neural nets. [And a few more things.](https://medium.com/towards-data-science/pytorch-vs-tensorflow-spotting-the-difference-25c75777377b)\n",
        "\n",
        "Let's dive into it!"
      ]
    },
    {
      "cell_type": "code",
      "execution_count": 1,
      "metadata": {
        "ExecuteTime": {
          "end_time": "2021-05-15T12:09:37.524783Z",
          "start_time": "2021-05-15T12:09:32.623687Z"
        },
        "id": "6LvcE4IQCe8c",
        "outputId": "07f16e31-0c2e-4403-b035-77702b87d236",
        "colab": {
          "base_uri": "https://localhost:8080/"
        }
      },
      "outputs": [
        {
          "output_type": "stream",
          "name": "stdout",
          "text": [
            "Requirement already satisfied: pandas in /usr/local/lib/python3.10/dist-packages (1.5.3)\n",
            "Requirement already satisfied: python-dateutil>=2.8.1 in /usr/local/lib/python3.10/dist-packages (from pandas) (2.8.2)\n",
            "Requirement already satisfied: pytz>=2020.1 in /usr/local/lib/python3.10/dist-packages (from pandas) (2023.4)\n",
            "Requirement already satisfied: numpy>=1.21.0 in /usr/local/lib/python3.10/dist-packages (from pandas) (1.25.2)\n",
            "Requirement already satisfied: six>=1.5 in /usr/local/lib/python3.10/dist-packages (from python-dateutil>=2.8.1->pandas) (1.16.0)\n"
          ]
        }
      ],
      "source": [
        "! pip install pandas"
      ]
    },
    {
      "cell_type": "code",
      "execution_count": 2,
      "metadata": {
        "ExecuteTime": {
          "end_time": "2021-05-15T12:09:38.596016Z",
          "start_time": "2021-05-15T12:09:37.530378Z"
        },
        "id": "8taIBY36Ce8e"
      },
      "outputs": [],
      "source": [
        "import matplotlib.pyplot as plt\n",
        "import numpy as np  # linear algebra\n",
        "import pandas as pd  # data processing, CSV file I/O (e.g. pd.read_csv)\n",
        "import torch\n",
        "import torchvision\n",
        "from torch.utils.data import DataLoader, Dataset, Subset\n",
        "from torchvision import transforms"
      ]
    },
    {
      "cell_type": "markdown",
      "metadata": {
        "id": "KB3r0KATCe8e"
      },
      "source": [
        "### Task 1: Tensormancy\n",
        "\n",
        "__1.1 The [_disclaimer_](https://gist.githubusercontent.com/justheuristic/e2c1fa28ca02670cabc42cacf3902796/raw/fd3d935cef63a01b85ed2790b5c11c370245cbd7/stddisclaimer.h)__\n",
        "\n",
        "Let's write another function, this time in polar coordinates:\n",
        "$$\\rho(\\theta) = (1 + 0.9 \\cdot cos (6 \\cdot \\theta) ) \\cdot (1 + 0.01 \\cdot cos(24 \\cdot \\theta)) \\cdot (0.5 + 0.05 \\cdot cos(200 \\cdot \\theta)) \\cdot (10 + sin(10 \\cdot \\theta))$$\n",
        "\n",
        "\n",
        "Then convert it into cartesian coordinates ([howto](http://www.mathsisfun.com/polar-cartesian-coordinates.html)) and plot the results.\n",
        "\n",
        "Use torch tensors only: no lists, loops, numpy arrays, etc."
      ]
    },
    {
      "cell_type": "code",
      "execution_count": null,
      "metadata": {
        "ExecuteTime": {
          "end_time": "2020-02-28T00:13:20.890514Z",
          "start_time": "2020-02-28T00:13:20.639022Z"
        },
        "id": "ti2rl0kmCe8f"
      },
      "outputs": [],
      "source": [
        "theta = torch.linspace(-np.pi, np.pi, steps=1000)\n",
        "\n",
        "# compute rho(theta) as per formula above\n",
        "rho = None  # YOUR CODE HERE\n",
        "\n",
        "# Now convert polar (rho, theta) pairs into cartesian (x,y) to plot them.\n",
        "x = None  # YOUR CODE HERE\n",
        "y = None  # YOUR CODE HERE\n",
        "\n",
        "\n",
        "plt.figure(figsize=(6, 6))\n",
        "plt.fill(x.numpy(), y.numpy(), color=\"red\")\n",
        "plt.grid()"
      ]
    },
    {
      "cell_type": "markdown",
      "metadata": {
        "id": "Zo8-h6HQCe8f"
      },
      "source": [
        "### Task 2: Using the Dataloader"
      ]
    },
    {
      "cell_type": "code",
      "execution_count": 3,
      "metadata": {
        "ExecuteTime": {
          "end_time": "2021-05-15T12:10:11.032298Z",
          "start_time": "2021-05-15T12:10:11.026817Z"
        },
        "id": "-h1D0Re-Ce8f"
      },
      "outputs": [],
      "source": [
        "from torch import nn\n",
        "from torch.nn import functional as F"
      ]
    },
    {
      "cell_type": "code",
      "execution_count": 4,
      "metadata": {
        "ExecuteTime": {
          "end_time": "2021-05-15T12:10:16.847229Z",
          "start_time": "2021-05-15T12:10:16.274927Z"
        },
        "id": "9kB6-emcCe8g",
        "outputId": "67c56891-9a62-48ce-d1b5-c2050118667b",
        "colab": {
          "base_uri": "https://localhost:8080/"
        }
      },
      "outputs": [
        {
          "output_type": "stream",
          "name": "stdout",
          "text": [
            "--2024-02-15 18:34:30--  https://raw.githubusercontent.com/neychev/harbour_ml2020/master/day10_Optimization_and_regularization_in_DL/notmnist.py\n",
            "Resolving raw.githubusercontent.com (raw.githubusercontent.com)... 185.199.110.133, 185.199.108.133, 185.199.111.133, ...\n",
            "Connecting to raw.githubusercontent.com (raw.githubusercontent.com)|185.199.110.133|:443... connected.\n",
            "HTTP request sent, awaiting response... 200 OK\n",
            "Length: 1799 (1.8K) [text/plain]\n",
            "Saving to: ‘notmnist.py’\n",
            "\n",
            "\rnotmnist.py           0%[                    ]       0  --.-KB/s               \rnotmnist.py         100%[===================>]   1.76K  --.-KB/s    in 0s      \n",
            "\n",
            "2024-02-15 18:34:30 (20.3 MB/s) - ‘notmnist.py’ saved [1799/1799]\n",
            "\n"
          ]
        }
      ],
      "source": [
        "!wget https://raw.githubusercontent.com/neychev/harbour_ml2020/master/day10_Optimization_and_regularization_in_DL/notmnist.py"
      ]
    },
    {
      "cell_type": "code",
      "execution_count": 5,
      "metadata": {
        "ExecuteTime": {
          "end_time": "2021-05-15T12:13:01.524805Z",
          "start_time": "2021-05-15T12:12:51.811975Z"
        },
        "id": "u9lQN_tACe8g",
        "outputId": "000a1561-fd98-4cc7-d937-3fd4fe2be04f",
        "colab": {
          "base_uri": "https://localhost:8080/"
        }
      },
      "outputs": [
        {
          "output_type": "stream",
          "name": "stdout",
          "text": [
            "Collecting sklearn\n",
            "  Downloading sklearn-0.0.post12.tar.gz (2.6 kB)\n",
            "  \u001b[1;31merror\u001b[0m: \u001b[1msubprocess-exited-with-error\u001b[0m\n",
            "  \n",
            "  \u001b[31m×\u001b[0m \u001b[32mpython setup.py egg_info\u001b[0m did not run successfully.\n",
            "  \u001b[31m│\u001b[0m exit code: \u001b[1;36m1\u001b[0m\n",
            "  \u001b[31m╰─>\u001b[0m See above for output.\n",
            "  \n",
            "  \u001b[1;35mnote\u001b[0m: This error originates from a subprocess, and is likely not a problem with pip.\n",
            "  Preparing metadata (setup.py) ... \u001b[?25l\u001b[?25herror\n",
            "\u001b[1;31merror\u001b[0m: \u001b[1mmetadata-generation-failed\u001b[0m\n",
            "\n",
            "\u001b[31m×\u001b[0m Encountered error while generating package metadata.\n",
            "\u001b[31m╰─>\u001b[0m See above for output.\n",
            "\n",
            "\u001b[1;35mnote\u001b[0m: This is an issue with the package mentioned above, not pip.\n",
            "\u001b[1;36mhint\u001b[0m: See above for details.\n"
          ]
        }
      ],
      "source": [
        "! pip install sklearn"
      ]
    },
    {
      "cell_type": "code",
      "execution_count": 6,
      "metadata": {
        "ExecuteTime": {
          "end_time": "2021-05-15T12:13:22.357497Z",
          "start_time": "2021-05-15T12:13:03.034526Z"
        },
        "id": "jXBTHvapCe8h",
        "outputId": "ae13de75-3a69-4fe6-b20c-67fa4ccda4e2",
        "colab": {
          "base_uri": "https://localhost:8080/"
        }
      },
      "outputs": [
        {
          "output_type": "stream",
          "name": "stdout",
          "text": [
            "Downloading data...\n",
            "Extracting ...\n",
            "Parsing...\n",
            "found broken img: ./notMNIST_small/F/Q3Jvc3NvdmVyIEJvbGRPYmxpcXVlLnR0Zg==.png [it's ok if <10 images are broken]\n",
            "found broken img: ./notMNIST_small/A/RGVtb2NyYXRpY2FCb2xkT2xkc3R5bGUgQm9sZC50dGY=.png [it's ok if <10 images are broken]\n",
            "Done\n"
          ]
        }
      ],
      "source": [
        "from notmnist import load_notmnist\n",
        "\n",
        "\n",
        "X_train, y_train, X_test, y_test = load_notmnist()"
      ]
    },
    {
      "cell_type": "code",
      "execution_count": 7,
      "metadata": {
        "ExecuteTime": {
          "end_time": "2021-05-15T12:16:40.801197Z",
          "start_time": "2021-05-15T12:16:40.796887Z"
        },
        "id": "o2rVEP8ICe8h",
        "outputId": "62c32fd5-383d-4d3b-e1e5-72bf5d8e0490",
        "colab": {
          "base_uri": "https://localhost:8080/"
        }
      },
      "outputs": [
        {
          "output_type": "stream",
          "name": "stdout",
          "text": [
            "An abstract class representing a :class:`Dataset`.\n",
            "\n",
            "    All datasets that represent a map from keys to data samples should subclass\n",
            "    it. All subclasses should overwrite :meth:`__getitem__`, supporting fetching a\n",
            "    data sample for a given key. Subclasses could also optionally overwrite\n",
            "    :meth:`__len__`, which is expected to return the size of the dataset by many\n",
            "    :class:`~torch.utils.data.Sampler` implementations and the default options\n",
            "    of :class:`~torch.utils.data.DataLoader`. Subclasses could also\n",
            "    optionally implement :meth:`__getitems__`, for speedup batched samples\n",
            "    loading. This method accepts list of indices of samples of batch and returns\n",
            "    list of samples.\n",
            "\n",
            "    .. note::\n",
            "      :class:`~torch.utils.data.DataLoader` by default constructs a index\n",
            "      sampler that yields integral indices.  To make it work with a map-style\n",
            "      dataset with non-integral indices/keys, a custom sampler must be provided.\n",
            "    \n"
          ]
        }
      ],
      "source": [
        "print(Dataset.__doc__)"
      ]
    },
    {
      "cell_type": "code",
      "execution_count": 8,
      "metadata": {
        "ExecuteTime": {
          "end_time": "2021-05-15T12:19:37.812101Z",
          "start_time": "2021-05-15T12:19:37.799801Z"
        },
        "id": "Ntb2TD6_Ce8i"
      },
      "outputs": [],
      "source": [
        "import cv2"
      ]
    },
    {
      "cell_type": "code",
      "execution_count": 9,
      "metadata": {
        "ExecuteTime": {
          "end_time": "2021-05-15T12:17:47.047358Z",
          "start_time": "2021-05-15T12:17:47.041319Z"
        },
        "id": "Y-1q6nHnCe8i"
      },
      "outputs": [],
      "source": [
        "class DatasetMNIST(Dataset):\n",
        "    def __init__(self, path=\"./notMNIST_small\", letters=\"ABCDEFGHIJ\", transform=None):\n",
        "        self.data, self.labels, _, _ = load_notmnist(path=path, letters=letters, test_size=0)\n",
        "        self.transform = transform\n",
        "\n",
        "    def __len__(self):\n",
        "        return len(self.data)\n",
        "\n",
        "    def __getitem__(self, index):\n",
        "        # load image as ndarray type (Height * Width * Channels)\n",
        "        # be carefull for converting dtype to np.uint8 [Unsigned integer (0 to 255)]\n",
        "        # in this example, i don't use ToTensor() method of torchvision.transforms\n",
        "        # so you can convert numpy ndarray shape to tensor in PyTorch (H, W, C) --> (C, H, W)\n",
        "        image = self.data[index].transpose(1, 2, 0)\n",
        "        label = self.labels[index]\n",
        "\n",
        "        if self.transform is not None:\n",
        "            image = self.transform(image)\n",
        "\n",
        "        return image, label"
      ]
    },
    {
      "cell_type": "code",
      "execution_count": 10,
      "metadata": {
        "ExecuteTime": {
          "end_time": "2021-05-15T12:17:49.115805Z",
          "start_time": "2021-05-15T12:17:48.693678Z"
        },
        "id": "4jZDqqcrCe8i",
        "outputId": "58e0f6f6-94c4-4553-bdf6-cbe09540748f",
        "colab": {
          "base_uri": "https://localhost:8080/"
        }
      },
      "outputs": [
        {
          "output_type": "stream",
          "name": "stdout",
          "text": [
            "Parsing...\n",
            "found broken img: ./notMNIST_small/A/RGVtb2NyYXRpY2FCb2xkT2xkc3R5bGUgQm9sZC50dGY=.png [it's ok if <10 images are broken]\n",
            "Done\n"
          ]
        }
      ],
      "source": [
        "full_dataset = DatasetMNIST(\"./notMNIST_small\", \"AB\", transform=None)"
      ]
    },
    {
      "cell_type": "code",
      "execution_count": 11,
      "metadata": {
        "ExecuteTime": {
          "end_time": "2021-05-15T12:17:51.669798Z",
          "start_time": "2021-05-15T12:17:51.661712Z"
        },
        "id": "WTGl6eGICe8j",
        "outputId": "5d94c9d0-2445-423c-955d-1bb133506cf8",
        "colab": {
          "base_uri": "https://localhost:8080/"
        }
      },
      "outputs": [
        {
          "output_type": "stream",
          "name": "stdout",
          "text": [
            "(28, 28, 1)\n",
            "<class 'numpy.ndarray'>\n"
          ]
        }
      ],
      "source": [
        "# we can access and get data with index by __getitem__(index)\n",
        "img, lab = full_dataset.__getitem__(0)\n",
        "\n",
        "print(img.shape)\n",
        "print(type(img))"
      ]
    },
    {
      "cell_type": "code",
      "execution_count": 12,
      "metadata": {
        "ExecuteTime": {
          "end_time": "2021-05-15T12:28:51.305995Z",
          "start_time": "2021-05-15T12:28:51.284696Z"
        },
        "id": "fP5jvDCgCe8j",
        "outputId": "24e4e87a-0b5f-4b33-9217-e9fa0a6a9317",
        "colab": {
          "base_uri": "https://localhost:8080/"
        }
      },
      "outputs": [
        {
          "output_type": "execute_result",
          "data": {
            "text/plain": [
              "torch.Size([1, 28, 28])"
            ]
          },
          "metadata": {},
          "execution_count": 12
        }
      ],
      "source": [
        "a = torchvision.transforms.ToTensor()\n",
        "\n",
        "a(img).shape"
      ]
    },
    {
      "cell_type": "code",
      "execution_count": 13,
      "metadata": {
        "ExecuteTime": {
          "end_time": "2021-05-15T12:30:39.068254Z",
          "start_time": "2021-05-15T12:30:38.905635Z"
        },
        "id": "igLtURzhCe8j",
        "outputId": "8fb6d1dc-b050-4777-cc75-dde9fdd07883",
        "colab": {
          "base_uri": "https://localhost:8080/",
          "height": 308
        }
      },
      "outputs": [
        {
          "output_type": "display_data",
          "data": {
            "text/plain": [
              "<Figure size 640x480 with 2 Axes>"
            ],
            "image/png": "[encoded data removed]"
          },
          "metadata": {}
        }
      ],
      "source": [
        "inds = np.random.randint(len(full_dataset), size=2)\n",
        "\n",
        "for i in range(2):\n",
        "    plt.subplot(1, 2, i + 1)\n",
        "    plt.imshow(full_dataset[inds[i]][0].reshape([28, 28]))\n",
        "    plt.title(str(full_dataset[inds[i]][1]))"
      ]
    },
    {
      "cell_type": "markdown",
      "metadata": {
        "id": "mSnpwxMLCe8k"
      },
      "source": [
        "#### To the DataLoader"
      ]
    },
    {
      "cell_type": "code",
      "execution_count": 14,
      "metadata": {
        "ExecuteTime": {
          "end_time": "2021-05-15T12:45:34.053787Z",
          "start_time": "2021-05-15T12:45:34.051854Z"
        },
        "id": "zWPNrt94Ce8k"
      },
      "outputs": [],
      "source": [
        "train_loader = DataLoader(full_dataset, batch_size=8, shuffle=True, num_workers=1)"
      ]
    },
    {
      "cell_type": "markdown",
      "metadata": {
        "id": "D1GzF4CRCe8k"
      },
      "source": [
        "We can use dataloader as iterator by using iter() function."
      ]
    },
    {
      "cell_type": "code",
      "execution_count": 15,
      "metadata": {
        "ExecuteTime": {
          "end_time": "2021-05-15T12:45:37.186371Z",
          "start_time": "2021-05-15T12:45:37.172366Z"
        },
        "id": "Yu7r2m15Ce8k",
        "outputId": "fa787083-6076-4c45-d106-0fceee61966b",
        "colab": {
          "base_uri": "https://localhost:8080/"
        }
      },
      "outputs": [
        {
          "output_type": "stream",
          "name": "stdout",
          "text": [
            "<class 'torch.utils.data.dataloader._MultiProcessingDataLoaderIter'>\n"
          ]
        }
      ],
      "source": [
        "train_iter = iter(train_loader)\n",
        "print(type(train_iter))"
      ]
    },
    {
      "cell_type": "markdown",
      "metadata": {
        "id": "5MxO102iCe8l"
      },
      "source": [
        "We can look at images and labels of batch size by extracting data `.next()` method."
      ]
    },
    {
      "cell_type": "code",
      "execution_count": 16,
      "metadata": {
        "ExecuteTime": {
          "end_time": "2021-05-15T12:46:16.933839Z",
          "start_time": "2021-05-15T12:46:16.927516Z"
        },
        "id": "CtXXoBvZCe8l"
      },
      "outputs": [],
      "source": [
        "# # images, labels = train_iter.next()\n",
        "\n",
        "# print(\"images shape on batch size = {}\".format(images.size()))\n",
        "# print(\"labels shape on batch size = {}\".format(labels.size()))"
      ]
    },
    {
      "cell_type": "code",
      "execution_count": null,
      "metadata": {
        "ExecuteTime": {
          "end_time": "2021-05-15T12:46:18.927311Z",
          "start_time": "2021-05-15T12:46:18.871111Z"
        },
        "id": "RuKRYIPmCe8l",
        "outputId": "61ad1410-e81b-4b8e-fa24-77d15b5d9e50"
      },
      "outputs": [
        {
          "name": "stderr",
          "output_type": "stream",
          "text": [
            "Clipping input data to the valid range for imshow with RGB data ([0..1] for floats or [0..255] for integers).\n",
            "/opt/miniconda3/envs/ml-mipt/lib/python3.8/site-packages/matplotlib/text.py:1215: FutureWarning: elementwise comparison failed; returning scalar instead, but in the future will perform elementwise comparison\n",
            "  if s != self._text:\n"
          ]
        },
        {
          "data": {
            "image/png": "[encoded data removed]",
            "text/plain": [
              "<Figure size 432x288 with 1 Axes>"
            ]
          },
          "metadata": {
            "needs_background": "light"
          },
          "output_type": "display_data"
        }
      ],
      "source": [
        "# make grid takes tensor as arg\n",
        "# tensor : (batchsize, channels, height, width)\n",
        "grid = torchvision.utils.make_grid(images.permute([0, 3, 1, 2]))\n",
        "\n",
        "plt.imshow(grid.numpy().transpose((1, 2, 0)))\n",
        "plt.axis(\"off\")\n",
        "plt.title(labels.numpy());"
      ]
    },
    {
      "cell_type": "markdown",
      "metadata": {
        "id": "e-XwxJEACe8l"
      },
      "source": [
        "And now with transformations:"
      ]
    },
    {
      "cell_type": "code",
      "execution_count": 17,
      "metadata": {
        "ExecuteTime": {
          "end_time": "2021-05-15T12:48:45.968729Z",
          "start_time": "2021-05-15T12:48:43.974652Z"
        },
        "id": "j_T_zvtoCe8l",
        "outputId": "2fde2a9c-ea61-4bb1-881c-435db57ec3ee",
        "colab": {
          "base_uri": "https://localhost:8080/"
        }
      },
      "outputs": [
        {
          "output_type": "stream",
          "name": "stdout",
          "text": [
            "Parsing...\n",
            "found broken img: ./notMNIST_small/F/Q3Jvc3NvdmVyIEJvbGRPYmxpcXVlLnR0Zg==.png [it's ok if <10 images are broken]\n",
            "found broken img: ./notMNIST_small/A/RGVtb2NyYXRpY2FCb2xkT2xkc3R5bGUgQm9sZC50dGY=.png [it's ok if <10 images are broken]\n",
            "Done\n"
          ]
        }
      ],
      "source": [
        "train_dataset_with_transform = DatasetMNIST(transform=torchvision.transforms.ToTensor())"
      ]
    },
    {
      "cell_type": "code",
      "execution_count": 18,
      "metadata": {
        "ExecuteTime": {
          "end_time": "2021-05-15T12:48:48.069398Z",
          "start_time": "2021-05-15T12:48:48.064151Z"
        },
        "id": "XL-rm2h0Ce8m",
        "outputId": "bec52cba-4760-46a3-8030-fcb67616d6ff",
        "colab": {
          "base_uri": "https://localhost:8080/"
        }
      },
      "outputs": [
        {
          "output_type": "stream",
          "name": "stdout",
          "text": [
            "image shape at the first row : torch.Size([1, 28, 28])\n"
          ]
        }
      ],
      "source": [
        "img, lab = train_dataset_with_transform.__getitem__(0)\n",
        "\n",
        "print(\"image shape at the first row : {}\".format(img.size()))"
      ]
    },
    {
      "cell_type": "code",
      "execution_count": 19,
      "metadata": {
        "ExecuteTime": {
          "end_time": "2021-05-15T12:48:57.653616Z",
          "start_time": "2021-05-15T12:48:57.640221Z"
        },
        "id": "6BGhFu7UCe8m",
        "outputId": "7ae966f6-cdb1-4211-f8ad-bb88cee177c4",
        "colab": {
          "base_uri": "https://localhost:8080/"
        }
      },
      "outputs": [
        {
          "output_type": "stream",
          "name": "stdout",
          "text": [
            "<class 'torch.utils.data.dataloader._SingleProcessDataLoaderIter'>\n",
            "images shape on batch size = torch.Size([8, 1, 28, 28])\n",
            "labels shape on batch size = torch.Size([8])\n"
          ]
        }
      ],
      "source": [
        "train_loader_tr = DataLoader(train_dataset_with_transform, batch_size=8, shuffle=True)\n",
        "\n",
        "train_iter_tr = iter(train_loader_tr)\n",
        "print(type(train_iter_tr))\n",
        "\n",
        "images, labels = next(train_iter_tr)\n",
        "\n",
        "print(\"images shape on batch size = {}\".format(images.size()))\n",
        "print(\"labels shape on batch size = {}\".format(labels.size()))"
      ]
    },
    {
      "cell_type": "code",
      "execution_count": 22,
      "metadata": {
        "ExecuteTime": {
          "end_time": "2021-05-15T12:49:00.216937Z",
          "start_time": "2021-05-15T12:49:00.176878Z"
        },
        "id": "k-N4oO40Ce8m",
        "outputId": "2f112bc0-edad-43f1-da3a-774d670e071f",
        "colab": {
          "base_uri": "https://localhost:8080/",
          "height": 157
        }
      },
      "outputs": [
        {
          "output_type": "stream",
          "name": "stderr",
          "text": [
            "WARNING:matplotlib.image:Clipping input data to the valid range for imshow with RGB data ([0..1] for floats or [0..255] for integers).\n"
          ]
        },
        {
          "output_type": "execute_result",
          "data": {
            "text/plain": [
              "(-0.5, 241.5, 31.5, -0.5)"
            ]
          },
          "metadata": {},
          "execution_count": 22
        },
        {
          "output_type": "display_data",
          "data": {
            "text/plain": [
              "<Figure size 640x480 with 1 Axes>"
            ],
            "image/png": "[encoded data removed]"
          },
          "metadata": {}
        }
      ],
      "source": [
        "grid = torchvision.utils.make_grid(images)\n",
        "\n",
        "plt.imshow(grid.numpy().transpose((1, 2, 0)))\n",
        "plt.axis(\"off\")\n",
        "# plt.title(labels.detach().numpy());"
      ]
    },
    {
      "cell_type": "markdown",
      "metadata": {
        "id": "WG802XiLCe8n"
      },
      "source": [
        "### Composing several transformations"
      ]
    },
    {
      "cell_type": "markdown",
      "metadata": {
        "id": "3przPvh9Ce8n"
      },
      "source": [
        "If you want to take data augmentation, you have to make List using `torchvision.transforms.Compose`\n",
        "\n",
        "```\n",
        "class Compose(object):\n",
        "    \"\"\"Composes several transforms together.\n",
        "    Args:\n",
        "        transforms (list of ``Transform`` objects): list of transforms to compose.\n",
        "    Example:\n",
        "        >>> transforms.Compose([\n",
        "        >>>     transforms.CenterCrop(10),\n",
        "        >>>     transforms.ToTensor(),\n",
        "        >>> ])\n",
        "    \"\"\"\n",
        "\n",
        "    def __init__(self, transforms):\n",
        "        self.transforms = transforms\n",
        "\n",
        "    def __call__(self, img):\n",
        "        for t in self.transforms:\n",
        "            img = t(img)\n",
        "        return img\n",
        "\n",
        "    def __repr__(self):\n",
        "        format_string = self.__class__.__name__ + '('\n",
        "        for t in self.transforms:\n",
        "            format_string += '\\n'\n",
        "            format_string += '    {0}'.format(t)\n",
        "        format_string += '\\n)'\n",
        "        return format_string\n",
        "```\n",
        "\n",
        "\n",
        "this function can convert some image by order within `__call__` method."
      ]
    },
    {
      "cell_type": "code",
      "execution_count": 23,
      "metadata": {
        "ExecuteTime": {
          "end_time": "2021-05-15T12:50:28.015725Z",
          "start_time": "2021-05-15T12:50:28.010158Z"
        },
        "id": "b9wTa-CxCe8o"
      },
      "outputs": [],
      "source": [
        "class Flatten:\n",
        "    def __call__(self, pic):\n",
        "        return pic.flatten()\n",
        "\n",
        "    def __repr__(self):\n",
        "        return self.__class__.__name__ + \"()\""
      ]
    },
    {
      "cell_type": "code",
      "execution_count": 24,
      "metadata": {
        "ExecuteTime": {
          "end_time": "2021-05-15T12:50:28.352053Z",
          "start_time": "2021-05-15T12:50:28.346656Z"
        },
        "id": "AC1zyiWgCe8o"
      },
      "outputs": [],
      "source": [
        "a = Flatten()"
      ]
    },
    {
      "cell_type": "code",
      "execution_count": 25,
      "metadata": {
        "ExecuteTime": {
          "end_time": "2021-05-15T12:50:28.707188Z",
          "start_time": "2021-05-15T12:50:28.695334Z"
        },
        "id": "6kLHPvLQCe8o",
        "outputId": "df9bcfa8-d890-4ee5-d188-ad1fd53506c7",
        "colab": {
          "base_uri": "https://localhost:8080/"
        }
      },
      "outputs": [
        {
          "output_type": "execute_result",
          "data": {
            "text/plain": [
              "torch.Size([784])"
            ]
          },
          "metadata": {},
          "execution_count": 25
        }
      ],
      "source": [
        "a(img).shape"
      ]
    },
    {
      "cell_type": "code",
      "execution_count": 27,
      "metadata": {
        "ExecuteTime": {
          "end_time": "2021-05-15T12:54:57.352268Z",
          "start_time": "2021-05-15T12:54:57.347366Z"
        },
        "id": "q312nv5bCe8p"
      },
      "outputs": [],
      "source": [
        "new_transform = torchvision.transforms.Compose([\n",
        "#     torchvision.transforms.CenterCrop(),\n",
        "#     torchvision.transforms.Resize((640, 460)),\n",
        "    torchvision.transforms.ToTensor()\n",
        "])"
      ]
    },
    {
      "cell_type": "markdown",
      "metadata": {
        "id": "TKGPrDinCe8p"
      },
      "source": [
        "# Putting all together"
      ]
    },
    {
      "cell_type": "code",
      "execution_count": 28,
      "metadata": {
        "ExecuteTime": {
          "end_time": "2021-05-15T12:55:10.862374Z",
          "start_time": "2021-05-15T12:55:10.859472Z"
        },
        "id": "D3VFi-bCCe8p"
      },
      "outputs": [],
      "source": [
        "import time\n",
        "\n",
        "from IPython.display import clear_output"
      ]
    },
    {
      "cell_type": "code",
      "execution_count": 29,
      "metadata": {
        "ExecuteTime": {
          "end_time": "2021-05-15T12:55:12.366758Z",
          "start_time": "2021-05-15T12:55:12.315596Z"
        },
        "id": "SoqLJ1P_Ce8q",
        "outputId": "927a4e44-6632-4319-aa64-5bc841068c05",
        "colab": {
          "base_uri": "https://localhost:8080/"
        }
      },
      "outputs": [
        {
          "output_type": "execute_result",
          "data": {
            "text/plain": [
              "device(type='cpu')"
            ]
          },
          "metadata": {},
          "execution_count": 29
        }
      ],
      "source": [
        "# use GPU if available\n",
        "device = torch.device(\"cuda\") if torch.cuda.is_available() else torch.device(\"cpu\")\n",
        "device"
      ]
    },
    {
      "cell_type": "code",
      "execution_count": 30,
      "metadata": {
        "ExecuteTime": {
          "end_time": "2021-05-15T12:55:18.143638Z",
          "start_time": "2021-05-15T12:55:18.139717Z"
        },
        "id": "3V3OS5NPCe8q"
      },
      "outputs": [],
      "source": [
        "def subset_ind(dataset, ratio: float):\n",
        "    #     return ### YOUR CODE HERE\n",
        "    return np.random.choice(len(dataset), size=int(ratio * len(dataset)), replace=False)"
      ]
    },
    {
      "cell_type": "code",
      "execution_count": 32,
      "metadata": {
        "ExecuteTime": {
          "end_time": "2021-05-15T13:26:30.886348Z",
          "start_time": "2021-05-15T13:26:28.905812Z"
        },
        "id": "GS9MkeJGCe8r",
        "outputId": "fa26d72f-67e6-42e9-ffbf-b75497b7af13",
        "colab": {
          "base_uri": "https://localhost:8080/"
        }
      },
      "outputs": [
        {
          "output_type": "stream",
          "name": "stdout",
          "text": [
            "Parsing...\n",
            "found broken img: ./notMNIST_small/F/Q3Jvc3NvdmVyIEJvbGRPYmxpcXVlLnR0Zg==.png [it's ok if <10 images are broken]\n",
            "found broken img: ./notMNIST_small/A/RGVtb2NyYXRpY2FCb2xkT2xkc3R5bGUgQm9sZC50dGY=.png [it's ok if <10 images are broken]\n",
            "Done\n"
          ]
        }
      ],
      "source": [
        "dataset = DatasetMNIST(\n",
        "    \"./notMNIST_small\",\n",
        "#     'AB',\n",
        "    transform=new_transform,\n",
        ")\n",
        "\n",
        "# shrink_inds = subset_ind(dataset, 0.2)\n",
        "# dataset = Subset(dataset, shrink_inds)\n",
        "\n",
        "# print(f\"\\n\\n dataset size: {len(dataset)}, labels: {np.unique(dataset.dataset.labels)}\")"
      ]
    },
    {
      "cell_type": "code",
      "execution_count": 33,
      "metadata": {
        "ExecuteTime": {
          "end_time": "2021-05-15T13:26:30.898973Z",
          "start_time": "2021-05-15T13:26:30.887466Z"
        },
        "id": "lvRlLWVDCe8r",
        "outputId": "8d57029e-8518-4e8e-c9f3-11ea2e8d7283",
        "colab": {
          "base_uri": "https://localhost:8080/"
        }
      },
      "outputs": [
        {
          "output_type": "stream",
          "name": "stdout",
          "text": [
            "  training size: 14980\n",
            "validation size: 3744\n"
          ]
        }
      ],
      "source": [
        "val_size = 0.2\n",
        "val_inds = subset_ind(dataset, val_size)\n",
        "\n",
        "train_dataset = Subset(dataset, [i for i in range(len(dataset)) if i not in val_inds])\n",
        "val_dataset = Subset(dataset, val_inds)\n",
        "\n",
        "print(f\"  training size: {len(train_dataset)}\\nvalidation size: {len(val_dataset)}\")"
      ]
    },
    {
      "cell_type": "code",
      "execution_count": 35,
      "metadata": {
        "ExecuteTime": {
          "end_time": "2021-05-15T13:26:30.901762Z",
          "start_time": "2021-05-15T13:26:30.900015Z"
        },
        "id": "SH6cPV3CCe8s"
      },
      "outputs": [],
      "source": [
        "batch_size = 32\n",
        "\n",
        "train_loader = DataLoader(train_dataset, batch_size=batch_size, shuffle=True)\n",
        "val_loader = DataLoader(val_dataset, batch_size=batch_size, shuffle=False)"
      ]
    },
    {
      "cell_type": "code",
      "execution_count": 36,
      "metadata": {
        "ExecuteTime": {
          "end_time": "2021-05-15T13:26:30.906730Z",
          "start_time": "2021-05-15T13:26:30.902606Z"
        },
        "id": "gq08lbgBCe8s",
        "outputId": "9c411c5b-3e91-4922-8298-fcbc334bbcc7",
        "colab": {
          "base_uri": "https://localhost:8080/"
        }
      },
      "outputs": [
        {
          "output_type": "stream",
          "name": "stdout",
          "text": [
            "<class 'torch.utils.data.dataloader._SingleProcessDataLoaderIter'>\n",
            "images shape on batch size = torch.Size([32, 1, 28, 28])\n",
            "labels shape on batch size = torch.Size([32])\n"
          ]
        }
      ],
      "source": [
        "train_iter = iter(train_loader)\n",
        "print(type(train_iter))\n",
        "\n",
        "images, labels = next(train_iter)\n",
        "\n",
        "print(\"images shape on batch size = {}\".format(images.size()))\n",
        "print(\"labels shape on batch size = {}\".format(labels.size()))"
      ]
    },
    {
      "cell_type": "code",
      "execution_count": 37,
      "metadata": {
        "ExecuteTime": {
          "end_time": "2021-05-15T13:26:31.196795Z",
          "start_time": "2021-05-15T13:26:31.191358Z"
        },
        "id": "VJptvNQmCe8t"
      },
      "outputs": [],
      "source": [
        "loss_func = nn.CrossEntropyLoss()"
      ]
    },
    {
      "cell_type": "code",
      "execution_count": 38,
      "metadata": {
        "ExecuteTime": {
          "end_time": "2021-05-15T13:39:21.496016Z",
          "start_time": "2021-05-15T13:39:21.492008Z"
        },
        "id": "2qveF8IfCe8t"
      },
      "outputs": [],
      "source": [
        "default_dtype = torch.float32"
      ]
    },
    {
      "cell_type": "code",
      "execution_count": 92,
      "metadata": {
        "ExecuteTime": {
          "end_time": "2021-05-15T13:26:43.040207Z",
          "start_time": "2021-05-15T13:26:43.034595Z"
        },
        "id": "qoKTDvYDCe8t"
      },
      "outputs": [],
      "source": [
        "# create network again just in case\n",
        "model = nn.Sequential(\n",
        "    # nn.Linear(784, 10),\n",
        "    nn.Conv2d(1, 8, (5, 5)),\n",
        "    nn.BatchNorm2d(8),\n",
        "    nn.ReLU(),\n",
        "    nn.MaxPool2d((2,2)),\n",
        "    nn.Dropout2d(0.2),\n",
        "    nn.Conv2d(8, 16, (5, 5)),\n",
        "    nn.BatchNorm2d(16),\n",
        "    nn.ReLU(),\n",
        "    nn.MaxPool2d((2,2)),\n",
        "    nn.Dropout2d(0.2),\n",
        "    nn.Conv2d(16, 32, (3, 3)),\n",
        "    nn.BatchNorm2d(32),\n",
        "    nn.ReLU(),\n",
        "    nn.Dropout2d(0.2),\n",
        "    nn.Flatten(),\n",
        "    nn.Linear(128, 64),\n",
        "    nn.ReLU(),\n",
        "    nn.Linear(64, 10)\n",
        ")\n",
        "model.to(device, default_dtype)\n",
        "\n",
        "opt = torch.optim.Adam(model.parameters(), lr=1e-3)"
      ]
    },
    {
      "cell_type": "code",
      "execution_count": 93,
      "metadata": {
        "ExecuteTime": {
          "end_time": "2021-05-15T13:40:21.078316Z",
          "start_time": "2021-05-15T13:40:21.056750Z"
        },
        "id": "JWLHP5b_Ce8u"
      },
      "outputs": [],
      "source": [
        "def train_model(model, train_loader, val_loader, loss_fn, opt, n_epochs: int, device=device):\n",
        "    \"\"\"\n",
        "    model: нейросеть для обучения,\n",
        "    train_loader, val_loader: загрузчики данных\n",
        "    loss_fn: целевая метрика (которую будем оптимизировать)\n",
        "    opt: оптимизатор (обновляет веса нейросети)\n",
        "    n_epochs: кол-во эпох, полных проходов датасета\n",
        "    \"\"\"\n",
        "    train_loss = []\n",
        "    val_loss = []\n",
        "    val_accuracy = []\n",
        "\n",
        "    for epoch in range(n_epochs):\n",
        "        ep_train_loss = []\n",
        "        ep_val_loss = []\n",
        "        ep_val_accuracy = []\n",
        "        start_time = time.time()\n",
        "\n",
        "        model.train(True)  # enable dropout / batch_norm training behavior\n",
        "        for X_batch, y_batch in train_loader:\n",
        "            # move data to target device\n",
        "            ### YOUR CODE HERE\n",
        "            X_batch, y_batch = X_batch.to(device), y_batch.to(device)\n",
        "\n",
        "            # train on batch: compute loss, calc grads, perform optimizer step and zero the grads\n",
        "            ### YOUR CODE HERE\n",
        "            preds = model(X_batch)\n",
        "            loss = loss_fn(preds, y_batch)\n",
        "\n",
        "            opt.zero_grad()\n",
        "            loss.backward()\n",
        "\n",
        "            opt.step()\n",
        "\n",
        "            ep_train_loss.append(loss.item())\n",
        "\n",
        "        model.train(False)  # disable dropout / use averages for batch_norm\n",
        "        with torch.no_grad():\n",
        "            for X_batch, y_batch in val_loader:\n",
        "                # move data to target device\n",
        "                # YOUR CODE HERE\n",
        "                X_batch, y_batch = X_batch.to(device), y_batch.to(device)\n",
        "\n",
        "                preds = model(X_batch)\n",
        "                loss = loss_fn(preds, y_batch)\n",
        "\n",
        "                # compute predictions\n",
        "                # YOUR CODE HERE\n",
        "                ep_val_loss.append(loss.item())  # YOUR CODE HERE\n",
        "                y_pred = preds.max(-1)[1]  # YOUR CODE HERE\n",
        "                ep_val_accuracy.append((y_pred == y_batch).to(default_dtype).mean().item())  # YOUR CODE HERE\n",
        "\n",
        "        # print the results for this epoch:\n",
        "        print(f\"Epoch {epoch + 1} of {n_epochs} took {time.time() - start_time:.3f}s\")\n",
        "\n",
        "        train_loss.append(np.mean(ep_train_loss))\n",
        "        val_loss.append(np.mean(ep_val_loss))\n",
        "        val_accuracy.append(np.mean(ep_val_accuracy))\n",
        "\n",
        "        print(f\"\\t  training loss: {train_loss[-1]:.6f}\")\n",
        "        print(f\"\\tvalidation loss: {val_loss[-1]:.6f}\")\n",
        "        print(f\"\\tvalidation accuracy: {val_accuracy[-1]:.3f}\")\n",
        "\n",
        "    return train_loss, val_loss, val_accuracy"
      ]
    },
    {
      "cell_type": "code",
      "source": [
        "out = model(images.to(device))"
      ],
      "metadata": {
        "id": "OGzm6FTvFVxo"
      },
      "execution_count": 94,
      "outputs": []
    },
    {
      "cell_type": "code",
      "source": [
        "for g in opt.param_groups:\n",
        "    g['lr'] = 1e-4"
      ],
      "metadata": {
        "id": "Rbul9l_2FaNn"
      },
      "execution_count": 106,
      "outputs": []
    },
    {
      "cell_type": "code",
      "source": [
        "train_loss, val_loss, val_accuracy = [], [], []"
      ],
      "metadata": {
        "id": "Icmknc8RJzkS"
      },
      "execution_count": 105,
      "outputs": []
    },
    {
      "cell_type": "code",
      "execution_count": 107,
      "metadata": {
        "ExecuteTime": {
          "end_time": "2021-05-15T13:40:24.480182Z",
          "start_time": "2021-05-15T13:40:21.530351Z"
        },
        "scrolled": true,
        "id": "JVbGZIQ-Ce8v",
        "outputId": "51e5214f-822c-43d8-e8ea-4463bb77ada8",
        "colab": {
          "base_uri": "https://localhost:8080/"
        }
      },
      "outputs": [
        {
          "output_type": "stream",
          "name": "stdout",
          "text": [
            "Epoch 1 of 15 took 5.558s\n",
            "\t  training loss: 0.279264\n",
            "\tvalidation loss: 0.227242\n",
            "\tvalidation accuracy: 0.929\n",
            "Epoch 2 of 15 took 6.312s\n",
            "\t  training loss: 0.263599\n",
            "\tvalidation loss: 0.223194\n",
            "\tvalidation accuracy: 0.931\n",
            "Epoch 3 of 15 took 5.519s\n",
            "\t  training loss: 0.266105\n",
            "\tvalidation loss: 0.219340\n",
            "\tvalidation accuracy: 0.932\n",
            "Epoch 4 of 15 took 6.499s\n",
            "\t  training loss: 0.261932\n",
            "\tvalidation loss: 0.218934\n",
            "\tvalidation accuracy: 0.933\n",
            "Epoch 5 of 15 took 5.458s\n",
            "\t  training loss: 0.268518\n",
            "\tvalidation loss: 0.219397\n",
            "\tvalidation accuracy: 0.932\n",
            "Epoch 6 of 15 took 6.141s\n",
            "\t  training loss: 0.255017\n",
            "\tvalidation loss: 0.217850\n",
            "\tvalidation accuracy: 0.933\n",
            "Epoch 7 of 15 took 5.383s\n",
            "\t  training loss: 0.254286\n",
            "\tvalidation loss: 0.217382\n",
            "\tvalidation accuracy: 0.933\n",
            "Epoch 8 of 15 took 6.989s\n",
            "\t  training loss: 0.262170\n",
            "\tvalidation loss: 0.218153\n",
            "\tvalidation accuracy: 0.933\n",
            "Epoch 9 of 15 took 5.909s\n",
            "\t  training loss: 0.255213\n",
            "\tvalidation loss: 0.216843\n",
            "\tvalidation accuracy: 0.933\n",
            "Epoch 10 of 15 took 6.128s\n",
            "\t  training loss: 0.254555\n",
            "\tvalidation loss: 0.217503\n",
            "\tvalidation accuracy: 0.933\n",
            "Epoch 11 of 15 took 5.497s\n",
            "\t  training loss: 0.252185\n",
            "\tvalidation loss: 0.215182\n",
            "\tvalidation accuracy: 0.933\n",
            "Epoch 12 of 15 took 7.642s\n",
            "\t  training loss: 0.246482\n",
            "\tvalidation loss: 0.217410\n",
            "\tvalidation accuracy: 0.934\n",
            "Epoch 13 of 15 took 11.851s\n",
            "\t  training loss: 0.247519\n",
            "\tvalidation loss: 0.214923\n",
            "\tvalidation accuracy: 0.933\n",
            "Epoch 14 of 15 took 8.922s\n",
            "\t  training loss: 0.240866\n",
            "\tvalidation loss: 0.215656\n",
            "\tvalidation accuracy: 0.934\n",
            "Epoch 15 of 15 took 6.246s\n",
            "\t  training loss: 0.243832\n",
            "\tvalidation loss: 0.215322\n",
            "\tvalidation accuracy: 0.934\n"
          ]
        }
      ],
      "source": [
        "n_epochs = 15\n",
        "\n",
        "\n",
        "out = train_model(\n",
        "    model, train_loader, val_loader, loss_func, opt, n_epochs\n",
        ")"
      ]
    },
    {
      "cell_type": "code",
      "source": [
        "train_loss.extend(out[0]), val_loss.extend(out[1]), val_accuracy.extend(out[2])"
      ],
      "metadata": {
        "id": "JfT6FbaTJ0yo",
        "outputId": "079c5c5f-c229-45ae-b13a-84338028c680",
        "colab": {
          "base_uri": "https://localhost:8080/"
        }
      },
      "execution_count": 101,
      "outputs": [
        {
          "output_type": "execute_result",
          "data": {
            "text/plain": [
              "(None, None, None)"
            ]
          },
          "metadata": {},
          "execution_count": 101
        }
      ]
    },
    {
      "cell_type": "code",
      "execution_count": 110,
      "metadata": {
        "ExecuteTime": {
          "end_time": "2021-05-15T13:40:27.838414Z",
          "start_time": "2021-05-15T13:40:27.828749Z"
        },
        "id": "EzX1xQD7Ce8v"
      },
      "outputs": [],
      "source": [
        "def plot_train_process(train_loss, val_loss, val_accuracy):\n",
        "    fig, axes = plt.subplots(1, 2, figsize=(15, 5))\n",
        "\n",
        "    axes[0].set_title(\"Loss\")\n",
        "    axes[0].plot(train_loss, label=\"train\")\n",
        "    axes[0].plot(val_loss, label=\"validation\")\n",
        "    axes[0].legend()\n",
        "\n",
        "    axes[1].set_title(\"Validation accuracy\")\n",
        "    axes[1].plot(val_accuracy)"
      ]
    },
    {
      "cell_type": "code",
      "execution_count": 111,
      "metadata": {
        "ExecuteTime": {
          "end_time": "2021-05-15T13:40:30.092123Z",
          "start_time": "2021-05-15T13:40:29.940637Z"
        },
        "id": "AcVOkscVCe8v",
        "outputId": "0ceca4c4-72e8-4ecd-c680-b53a12f11af6",
        "colab": {
          "base_uri": "https://localhost:8080/",
          "height": 247
        }
      },
      "outputs": [
        {
          "output_type": "display_data",
          "data": {
            "text/plain": [
              "<Figure size 1500x500 with 2 Axes>"
            ],
            "image/png": "[encoded data removed]"
          },
          "metadata": {}
        }
      ],
      "source": [
        "plot_train_process(train_loss, val_loss, val_accuracy)"
      ]
    },
    {
      "cell_type": "markdown",
      "metadata": {
        "id": "PAQ5fxGQCe8y"
      },
      "source": [
        "### 3. Save the model (model checkpointing)\n",
        "\n",
        "Now we have trained a model! Obviously we do not want to retrain the model everytime we want to use it. Plus if you are training a super big model, you probably want to save checkpoint periodically so that you can always fall back to the last checkpoint in case something bad happened or you simply want to test models at different training iterations.\n",
        "\n",
        "Model checkpointing is fairly simple in PyTorch. First, we define a helper function that can save a model to the disk"
      ]
    },
    {
      "cell_type": "code",
      "execution_count": 123,
      "metadata": {
        "id": "A3qgS_SmCe8y"
      },
      "outputs": [],
      "source": [
        "def save_checkpoint(checkpoint_path, model, optimizer):\n",
        "    # state_dict: a Python dictionary object that:\n",
        "    # - for a model, maps each layer to its parameter tensor;\n",
        "    # - for an optimizer, contains info about the optimizer’s states and hyperparameters used.\n",
        "    state = {\"state_dict\": model.state_dict(), \"optimizer\": optimizer.state_dict()}\n",
        "    torch.save(state, checkpoint_path)\n",
        "    print(\"model saved to %s\" % checkpoint_path)\n",
        "\n",
        "\n",
        "def load_checkpoint(checkpoint_path, model, optimizer):\n",
        "    state = torch.load(checkpoint_path)\n",
        "    model.load_state_dict(state[\"state_dict\"])\n",
        "    optimizer.load_state_dict(state[\"optimizer\"])\n",
        "    print(\"model loaded from %s\" % checkpoint_path)"
      ]
    },
    {
      "cell_type": "code",
      "execution_count": 114,
      "metadata": {
        "id": "8Lu2ZSgnCe8y"
      },
      "outputs": [],
      "source": [
        "model2 = nn.Sequential(\n",
        "    # nn.Linear(784, 10),\n",
        "    nn.Conv2d(1, 8, (5, 5)),\n",
        "    nn.BatchNorm2d(8),\n",
        "    nn.ReLU(),\n",
        "    nn.MaxPool2d((2,2)),\n",
        "    nn.Dropout2d(0.2),\n",
        "    nn.Conv2d(8, 16, (5, 5)),\n",
        "    nn.BatchNorm2d(16),\n",
        "    nn.ReLU(),\n",
        "    nn.MaxPool2d((2,2)),\n",
        "    nn.Dropout2d(0.2),\n",
        "    nn.Conv2d(16, 32, (3, 3)),\n",
        "    nn.BatchNorm2d(32),\n",
        "    nn.ReLU(),\n",
        "    nn.Dropout2d(0.2),\n",
        "    nn.Flatten(),\n",
        "    nn.Linear(128, 64),\n",
        "    nn.ReLU(),\n",
        "    nn.Linear(64, 10)\n",
        ")"
      ]
    },
    {
      "cell_type": "code",
      "source": [
        "save_checkpoint('my_model.pth', model, opt)"
      ],
      "metadata": {
        "id": "ntgHvN2wMjVM",
        "outputId": "564195b2-3448-467d-cb19-f05d06663c70",
        "colab": {
          "base_uri": "https://localhost:8080/"
        }
      },
      "execution_count": 124,
      "outputs": [
        {
          "output_type": "stream",
          "name": "stdout",
          "text": [
            "model saved to my_model.pth\n"
          ]
        }
      ]
    },
    {
      "cell_type": "code",
      "source": [
        "!ls"
      ],
      "metadata": {
        "id": "cypJ8cmXMpeH",
        "outputId": "9d291a87-0ef6-4c37-cadf-74b76384a621",
        "colab": {
          "base_uri": "https://localhost:8080/"
        }
      },
      "execution_count": 125,
      "outputs": [
        {
          "output_type": "stream",
          "name": "stdout",
          "text": [
            "my_model.pth  notMNIST_small\t     __pycache__  untar_notmnist.log\n",
            "notmnist.py   notMNIST_small.tar.gz  sample_data\n"
          ]
        }
      ]
    },
    {
      "cell_type": "code",
      "source": [
        "opt2 = torch.optim.Adam(model2.parameters())"
      ],
      "metadata": {
        "id": "2J4e1BaxMraD"
      },
      "execution_count": 130,
      "outputs": []
    },
    {
      "cell_type": "code",
      "source": [
        "load_checkpoint('my_model.pth', model2, opt2)"
      ],
      "metadata": {
        "id": "FLtaZNjuM47H",
        "outputId": "1f4e85f1-972a-4f46-b797-83a2f4a31f6a",
        "colab": {
          "base_uri": "https://localhost:8080/"
        }
      },
      "execution_count": 131,
      "outputs": [
        {
          "output_type": "stream",
          "name": "stdout",
          "text": [
            "model loaded from my_model.pth\n"
          ]
        }
      ]
    },
    {
      "cell_type": "code",
      "source": [
        "first_layer_params = next(model.parameters())"
      ],
      "metadata": {
        "id": "uhdT7pZgMMhU"
      },
      "execution_count": 132,
      "outputs": []
    },
    {
      "cell_type": "code",
      "source": [
        "first_layer_params2 = next(model2.parameters())"
      ],
      "metadata": {
        "id": "LFOQI8c1MS2u"
      },
      "execution_count": 133,
      "outputs": []
    },
    {
      "cell_type": "code",
      "source": [],
      "metadata": {
        "id": "Rcvwo1lvMhvq"
      },
      "execution_count": 133,
      "outputs": []
    },
    {
      "cell_type": "code",
      "source": [
        "torch.allclose(first_layer_params2, first_layer_params)"
      ],
      "metadata": {
        "id": "z-h8178RMUtp",
        "outputId": "f11dcb50-f71f-4a29-d4c8-3fd378dcd6fa",
        "colab": {
          "base_uri": "https://localhost:8080/"
        }
      },
      "execution_count": 134,
      "outputs": [
        {
          "output_type": "execute_result",
          "data": {
            "text/plain": [
              "True"
            ]
          },
          "metadata": {},
          "execution_count": 134
        }
      ]
    },
    {
      "cell_type": "code",
      "source": [
        "torch.allclose(torch.ones(10), torch.zeros(10)+1)"
      ],
      "metadata": {
        "id": "X1RKG8a9MaUg",
        "outputId": "4b6f5945-01d6-4b4b-ad86-61ccde9ce8b8",
        "colab": {
          "base_uri": "https://localhost:8080/"
        }
      },
      "execution_count": 121,
      "outputs": [
        {
          "output_type": "execute_result",
          "data": {
            "text/plain": [
              "True"
            ]
          },
          "metadata": {},
          "execution_count": 121
        }
      ]
    },
    {
      "cell_type": "markdown",
      "source": [],
      "metadata": {
        "id": "ctNsqTg5MNEN"
      }
    },
    {
      "cell_type": "markdown",
      "metadata": {
        "id": "e1TZwSG1Ce8y"
      },
      "source": [
        "#### Define a training loop with model checkpointing"
      ]
    },
    {
      "cell_type": "code",
      "execution_count": null,
      "metadata": {
        "id": "77gvXt_PCe8y"
      },
      "outputs": [],
      "source": [
        "def train_save(epoch, save_interval, log_interval=100):\n",
        "    model.train()  # set training mode\n",
        "    iteration = 0\n",
        "    for ep in range(epoch):\n",
        "        for batch_idx, (data, target) in enumerate(trainset_loader):\n",
        "            data, target = data.to(device), target.to(device)\n",
        "            optimizer.zero_grad()\n",
        "            output = model(data)\n",
        "            loss = F.nll_loss(output, target)\n",
        "            loss.backward()\n",
        "            optimizer.step()\n",
        "            if iteration % log_interval == 0:\n",
        "                print(\n",
        "                    \"Train Epoch: {} [{}/{} ({:.0f}%)]\\tLoss: {:.6f}\".format(\n",
        "                        ep,\n",
        "                        batch_idx * len(data),\n",
        "                        len(trainset_loader.dataset),\n",
        "                        100.0 * batch_idx / len(trainset_loader),\n",
        "                        loss.item(),\n",
        "                    )\n",
        "                )\n",
        "            # different from before: saving model checkpoints\n",
        "            if iteration % save_interval == 0 and iteration > 0:\n",
        "                save_checkpoint(\"mnist-%i.pth\" % iteration, model, optimizer)\n",
        "            iteration += 1\n",
        "        test()\n",
        "\n",
        "    # save the final model\n",
        "    save_checkpoint(\"mnist-%i.pth\" % iteration, model, optimizer)"
      ]
    },
    {
      "cell_type": "code",
      "execution_count": null,
      "metadata": {
        "id": "zIj2rUhcCe8y"
      },
      "outputs": [],
      "source": [
        "train_save(5, save_interval=500, log_interval=100)"
      ]
    },
    {
      "cell_type": "code",
      "execution_count": null,
      "metadata": {
        "id": "dJ9mT84HCe8y"
      },
      "outputs": [],
      "source": [
        "# create a new model\n",
        "model = Net().to(device)\n",
        "optimizer = optim.SGD(model.parameters(), lr=0.001, momentum=0.9)\n",
        "# load from the final checkpoint\n",
        "load_checkpoint(\"mnist-4690.pth\", model, optimizer)\n",
        "# should give you the final model accuracy\n",
        "test()"
      ]
    },
    {
      "cell_type": "markdown",
      "metadata": {
        "id": "uT4j9W9XCe8z"
      },
      "source": [
        "```\n",
        "\n",
        "```\n",
        "\n",
        "```\n",
        "\n",
        "```\n",
        "\n",
        "```\n",
        "\n",
        "```\n",
        "\n",
        "```\n",
        "\n",
        "```\n",
        "\n",
        "```\n",
        "\n",
        "```\n",
        "### More about pytorch:\n",
        "* Using torch on GPU and multi-GPU - [link](http://pytorch.org/docs/master/notes/cuda.html)\n",
        "* More tutorials on pytorch - [link](http://pytorch.org/tutorials/beginner/deep_learning_60min_blitz.html)\n",
        "* Pytorch examples - a repo that implements many cool DL models in pytorch - [link](https://github.com/pytorch/examples)\n",
        "* Practical pytorch - a repo that implements some... other cool DL models... yes, in pytorch - [link](https://github.com/spro/practical-pytorch)\n",
        "* And some more - [link](https://www.reddit.com/r/pytorch/comments/6z0yeo/pytorch_and_pytorch_tricks_for_kaggle/)"
      ]
    }
  ],
  "metadata": {
    "kernelspec": {
      "display_name": "Python [conda env:ml-mipt]",
      "language": "python",
      "name": "conda-env-ml-mipt-py"
    },
    "language_info": {
      "codemirror_mode": {
        "name": "ipython",
        "version": 3
      },
      "file_extension": ".py",
      "mimetype": "text/x-python",
      "name": "python",
      "nbconvert_exporter": "python",
      "pygments_lexer": "ipython3",
      "version": "3.8.8"
    },
    "toc": {
      "base_numbering": 1,
      "nav_menu": {},
      "number_sections": true,
      "sideBar": true,
      "skip_h1_title": false,
      "title_cell": "Table of Contents",
      "title_sidebar": "Contents",
      "toc_cell": false,
      "toc_position": {},
      "toc_section_display": true,
      "toc_window_display": true
    },
    "colab": {
      "provenance": [],
      "gpuType": "T4"
    },
    "accelerator": "GPU"
  },
  "nbformat": 4,
  "nbformat_minor": 0
}